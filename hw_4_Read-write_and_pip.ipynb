{
 "cells": [
  {
   "cell_type": "markdown",
   "metadata": {},
   "source": [
    "### Задание 1\n",
    "Переведите содержимое файла purchase_log.txt в словарь purchases вида:\n",
    "{‘1840e0b9d4’: ‘Продукты’, …}"
   ]
  },
  {
   "cell_type": "code",
   "execution_count": 5,
   "metadata": {},
   "outputs": [],
   "source": [
    "f = open('purchase_log.txt', 'r')"
   ]
  },
  {
   "cell_type": "code",
   "execution_count": 6,
   "metadata": {},
   "outputs": [],
   "source": [
    "import json"
   ]
  },
  {
   "cell_type": "code",
   "execution_count": 7,
   "metadata": {},
   "outputs": [
    {
     "name": "stdout",
     "output_type": "stream",
     "text": [
      "{'user_id': 'category', '1840e0b9d4': 'Продукты', '4e4f90fcfb': 'Электроника', 'afea8d72fc': 'Электроника', '373a6055fe': 'Бытовая техника', '9b2ab046f3': 'Электроника', '9f39d307c3': 'Электроника', '44edeffc91': 'Продукты', '704474fa2d': 'Продукты', '1de31be403': 'Бытовая техника', 'b71f36a5e4': 'Продукты', '79843a685a': 'Продукты', 'ff68cee0d6': 'Бытовая техника', 'e8447c40e2': 'Досуг', '98d290be27': 'Электроника', 'fa0079a5a8': 'Досуг', '22d2f03a17': 'Досуг', '3f8e1ccd3f': 'Электроника', '81a9988b83': 'Электроника', '65f44a2eb7': 'Досуг', '5f8fbb0149': 'Бытовая техника', '3ecff691fd': 'Электроника', 'dd0e912251': 'Электроника', '9250593d55': 'Электроника', '37c4e090e4': 'Электроника', '22fa3ea76f': 'Электроника', '73b876b237': 'Электроника', 'f983a69d67': 'Товары для животных', '4ea17212f8': 'Продукты', 'c6de96a5e2': 'Товары для животных', 'd8e3bcee53': 'Продукты', '680aa815f9': 'Продукты', '4a92a68cf9': 'Электроника', '905e60cb52': 'Бытовая техника', '393bcfb298': 'Продукты', '06d450cc57': 'Электроника', 'b60ce22f17': 'Электроника', '6f159c4c2e': 'Товары для животных', '564202f6bd': 'Электроника', '1908683775': 'Электроника', '8fd957a463': 'Продукты', '72e0a3f1d0': 'Бытовая техника', '7f5f56e517': 'Досуг', 'bc1a0a7e26': 'Досуг', '17639fe89d': 'Досуг', '74c9201f84': 'Электроника', 'bc4ebda0df': 'Досуг', 'fe4615dd15': 'Досуг', 'd2c560746d': 'Бытовая техника', 'f0a93d52d2': 'Электроника', 'fe52ded300': 'Электроника', 'dbe70d84e4': 'Строительство и ремонт'}\n"
     ]
    }
   ],
   "source": [
    "purchases = {} # создаю пустой словарь, что бы там формировать формат и данных, согласно задаче\n",
    "\n",
    "with open ('purchase_log.txt') as f:\n",
    "    for i, line in enumerate(f):\n",
    "        mutated_purchase = json.loads(line) # перевожу в формат словаря\n",
    "        for user_id, category in mutated_purchase.items(): # Прохожу циклом, и достаю в отдельности ключ и значение\n",
    "            purchases[mutated_purchase['user_id']] = mutated_purchase['category']\n",
    "        if i > 50:\n",
    "            break\n",
    "    print(purchases)"
   ]
  },
  {
   "cell_type": "markdown",
   "metadata": {},
   "source": [
    "---"
   ]
  },
  {
   "cell_type": "markdown",
   "metadata": {},
   "source": [
    "### Задача2\n",
    "Для каждого user_id в файле visit_log.csv определите третий столбец с категорией покупки (если покупка была, сам файл visit_log.csv изменять не надо).\n",
    "\n",
    "Запишите в файл funnel.csv визиты из файла visit_log.csv, в которых были покупки с указанием категории.\n",
    "\n",
    "Учтите условия на данные: содержимое purchase_log.txt помещается в оперативную память компьютера содержимое visit_log.csv - нет; используйте только построчную обработку этого файла"
   ]
  },
  {
   "cell_type": "code",
   "execution_count": 10,
   "metadata": {},
   "outputs": [
    {
     "name": "stdout",
     "output_type": "stream",
     "text": [
      "user_id,source,category\n",
      "\n",
      "1840e0b9d4,other,Продукты\n",
      "\n",
      "4e4f90fcfb,context,Электроника\n",
      "\n",
      "afea8d72fc,other,Электроника\n",
      "\n",
      "373a6055fe,other,Бытовая техника\n",
      "\n",
      "9b2ab046f3,other,Электроника\n",
      "\n",
      "9f39d307c3,context,Электроника\n",
      "\n",
      "44edeffc91,context,Продукты\n",
      "\n",
      "704474fa2d,other,Продукты\n",
      "\n",
      "1de31be403,other,Бытовая техника\n",
      "\n",
      "b71f36a5e4,other,Продукты\n",
      "\n",
      "79843a685a,context,Продукты\n",
      "\n",
      "ff68cee0d6,context,Бытовая техника\n",
      "\n",
      "e8447c40e2,email,Досуг\n",
      "\n",
      "98d290be27,other,Электроника\n",
      "\n",
      "fa0079a5a8,other,Досуг\n",
      "\n",
      "22d2f03a17,context,Досуг\n",
      "\n",
      "3f8e1ccd3f,other,Электроника\n",
      "\n"
     ]
    }
   ],
   "source": [
    "# Открываю файл visit_log для чтения; создаю файл funnel.csv (одновременно для записи)\n",
    "with open('visit_log.csv', 'r') as visit:\n",
    "    with open('funnel.csv', 'w') as funnel:\n",
    "# пишу цикл в котором перебираю все строки из visit_log.csv, использую enumerate для ограничения вывода кол-ва строк в результате\n",
    "        for number_line, line in enumerate(visit):\n",
    "# каждую строку visit_log.csv оцищаю от переносов, и разбиваю на столбци преобразую каждую строку в отдельный список и выделяю user_id\n",
    "# т.к методы: strit и split не создают копию строк, результат складываю в переменную\n",
    "            visits_user_id = line.strip().split(',')[0]\n",
    "# пишу условную конструкцию, в которой ищу вхождение user_id в списке покупок (он сделан в задаче_1), это говорит о том что покупка был (это требуется по условияю задачи_2) \n",
    "            if visits_user_id in purchases.keys():\n",
    "# результат записываю что помощь f'строки (с переносом каждой строки) в отдельную переменную для наглядности\n",
    "                finall_list = f\"{line.strip()},{purchases[visits_user_id]}\\n\"\n",
    "# результат прописываю в созданный ранее funnel.csv\n",
    "                funnel.write(finall_list)\n",
    "                print(finall_list)\n",
    "# пишу условную конструкцию для для ограничения вывода кол-ва строк в результате\n",
    "                if number_line > 300:\n",
    "                    break"
   ]
  }
 ],
 "metadata": {
  "kernelspec": {
   "display_name": "Python 3",
   "language": "python",
   "name": "python3"
  },
  "language_info": {
   "codemirror_mode": {
    "name": "ipython",
    "version": 3
   },
   "file_extension": ".py",
   "mimetype": "text/x-python",
   "name": "python",
   "nbconvert_exporter": "python",
   "pygments_lexer": "ipython3",
   "version": "3.8.5"
  }
 },
 "nbformat": 4,
 "nbformat_minor": 4
}
